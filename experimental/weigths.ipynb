{
 "cells": [
  {
   "cell_type": "markdown",
   "metadata": {},
   "source": [
    "Weigths computations from the CEA2034 standard\n"
   ]
  },
  {
   "cell_type": "code",
   "execution_count": null,
   "metadata": {},
   "outputs": [],
   "source": [
    "import math\n",
    "import numpy as np"
   ]
  },
  {
   "cell_type": "code",
   "execution_count": null,
   "metadata": {},
   "outputs": [],
   "source": [
    "def areaQ(alpha_d, beta_d):\n",
    "  alpha = alpha_d * 2 * math.pi / 360\n",
    "  beta  = beta_d * 2 * math.pi /360\n",
    "  gamma = math.acos(math.cos(alpha)*math.cos(beta))\n",
    "  A = math.atan(math.sin(beta)/math.tan(alpha))\n",
    "  B = math.atan(math.sin(alpha)/math.tan(beta))\n",
    "  C = math.acos(-math.cos(A)*math.cos(B)+math.sin(A)*math.sin(B)*math.cos(gamma))\n",
    "  S = (4*C-2*math.pi)\n",
    "  #print('gamma {} A {} B {} C {} S {}'.format(\n",
    "  #    gamma*360/2/math.pi, A*360/2/math.pi, B*360/2/math.pi, C*360/2/math.pi, S))\n",
    "  return S"
   ]
  },
  {
   "cell_type": "code",
   "execution_count": null,
   "metadata": {},
   "outputs": [],
   "source": [
    "a  = [i*10+5 for i in range(0,9)] + [90]\n",
    "wa = [areaQ(i, i) for i in a]\n",
    "w = [wa[0]] + [wa[i]-wa[i-1] for i in range (1,len(wa))]\n",
    "w[9] *= 2.0\n",
    "ws = np.linalg.norm(w)\n",
    "w  /= ws/0.047133397655733274\n",
    "#ws = np.linalg.norm(w,ord=math.inf)\n",
    "#w /= ws\n",
    "print('{}'.format(w))"
   ]
  },
  {
   "cell_type": "code",
   "execution_count": null,
   "metadata": {},
   "outputs": [],
   "source": [
    "w_std = [0.000604486, 0.004730189, 0.008955027, 0.012387354, 0.014989611, 0.016868154, 0.018165962, 0.019006744, 0.019477787, 0.019629373]"
   ]
  },
  {
   "cell_type": "code",
   "execution_count": null,
   "metadata": {},
   "outputs": [],
   "source": [
    "np.array(w)-np.array(w_std)"
   ]
  },
  {
   "cell_type": "code",
   "execution_count": null,
   "metadata": {},
   "outputs": [],
   "source": [
    "areaQ(90,90)"
   ]
  },
  {
   "cell_type": "code",
   "execution_count": null,
   "metadata": {},
   "outputs": [],
   "source": [
    "0.047133397655733274*math.pi"
   ]
  },
  {
   "cell_type": "code",
   "execution_count": null,
   "metadata": {},
   "outputs": [],
   "source": []
  }
 ],
 "metadata": {
  "kernelspec": {
   "display_name": "Python 3",
   "language": "python",
   "name": "python3"
  },
  "language_info": {
   "codemirror_mode": {
    "name": "ipython",
    "version": 3
   },
   "file_extension": ".py",
   "mimetype": "text/x-python",
   "name": "python",
   "nbconvert_exporter": "python",
   "pygments_lexer": "ipython3",
   "version": "3.8.5"
  }
 },
 "nbformat": 4,
 "nbformat_minor": 4
}
