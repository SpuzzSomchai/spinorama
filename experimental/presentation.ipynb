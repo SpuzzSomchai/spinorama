{
 "cells": [
  {
   "cell_type": "code",
   "execution_count": null,
   "metadata": {},
   "outputs": [],
   "source": [
    "import numpy as np\n",
    "import pandas as pd\n",
    "import altair as alt"
   ]
  },
  {
   "cell_type": "code",
   "execution_count": null,
   "metadata": {},
   "outputs": [],
   "source": [
    "def graph_summary(speaker_name, speaker_summary):\n",
    "    #  Title                                                                                                                                        \n",
    "    #                Score\n",
    "    #  mean 300-10kHz \n",
    "    #  -3dB          lfx                                                                                                                            \n",
    "    #  -6dB          lfq                                                                                                                            \n",
    "    # +/- nDB        nbd_on                                                                                                                         \n",
    "    #                nbd_pir                                                                                                                        \n",
    "    #                sm_pir                                                                                                                         \n",
    "    # --------------------------                                                                                                                    \n",
    "    pointsX = np.array([0.0, 0.00, 0.05, 0.0, 0.0, 0.0, 0.5, 0.5, 0.5, 0.5, 0.5, 0.5])+0.05\n",
    "    pointsY = np.array([1.9, 1.60, 1.4, 1.2, 1.0, 0.8, 1.9, 1.6, 1.4, 1.2, 1.0, 0.8])-0.2\n",
    "    source = pd.DataFrame({'x': pointsX, 'y': pointsY, 'summary': speaker_summary})\n",
    "    return alt.Chart(source).mark_text(\n",
    "        align='left',\n",
    "        dx=0\n",
    "    ).encode(\n",
    "        x=alt.X('x', title='', scale=alt.Scale(domain=[0,1]), axis=alt.Axis(ticks=False, labels=False, grid=False)),\n",
    "        y=alt.Y('y', title='', axis=alt.Axis(ticks=False, labels=False, grid=False)), text='summary:N'\n",
    "    ).configure_text(\n",
    "        fontSize=16\n",
    "    ).configure_view(\n",
    "        strokeWidth=0, opacity=0\n",
    "    ).configure_title(\n",
    "        fontSize=30,\n",
    "        fontWeight='bold'\n",
    "    ).properties(\n",
    "        width=600,\n",
    "        height=400,\n",
    "        title=speaker_name)"
   ]
  },
  {
   "cell_type": "code",
   "execution_count": null,
   "metadata": {},
   "outputs": [],
   "source": [
    "speaker_name = 'Focal Aria 906'\n",
    "speaker_type = 'Bookshelves'\n",
    "estimates = [95, 30, 27, 3]\n",
    "pref_score = {\n",
    "    \"nbd_pred_in_room\" : 0.36,\n",
    "    \"lfq\" : 0.63,\n",
    "    \"lfx_hz\" : 43,\n",
    "    \"nbd_on_axis\" : 0.54,\n",
    "    \"sm_sound_power\" : 0.72,\n",
    "    \"nbd_listening_window\" : 0.44,\n",
    "    \"nbd_sound_power\" : 0.36,\n",
    "    \"pref_score\" : 3.5,\n",
    "    \"sm_pred_in_room\" : 0.14,\n",
    "}\n",
    "speaker_summary = [speaker_type, \n",
    "               'Reference level {0} dB'.format(estimates[0]),\n",
    "               '(mean over 300-10k Hz)',\n",
    "               '-3dB at {0}Hz wrt Ref.'.format(estimates[1]),\n",
    "               '-6dB at {0}Hz wrt Ref.'.format(estimates[2]),\n",
    "               '+/-{0}dB wrt Ref.'.format(estimates[3]),\n",
    "               'Preference score: {0}'.format(pref_score['pref_score']),\n",
    "               'Low Frequency Extension: {0} Hz'.format(pref_score['lfx_hz']),\n",
    "               'Low Frequence Quality : {0}'.format(pref_score['lfq']),\n",
    "               'Narrow Bandwidth Deviation On Axis: {0}'.format(pref_score['nbd_on_axis']),\n",
    "               'Narrow Bandwidth Deviation Predicted In-Room: {0}'.format(pref_score['nbd_pred_in_room']),\n",
    "               'SM Deviation Predicted In-Room: {0}'.format(pref_score['sm_pred_in_room'])\n",
    "              ]\n",
    "graph_summary(speaker_name, speaker_summary)"
   ]
  },
  {
   "cell_type": "code",
   "execution_count": null,
   "metadata": {},
   "outputs": [],
   "source": []
  },
  {
   "cell_type": "code",
   "execution_count": null,
   "metadata": {},
   "outputs": [],
   "source": []
  }
 ],
 "metadata": {
  "kernelspec": {
   "display_name": "Python 3",
   "language": "python",
   "name": "python3"
  },
  "language_info": {
   "codemirror_mode": {
    "name": "ipython",
    "version": 3
   },
   "file_extension": ".py",
   "mimetype": "text/x-python",
   "name": "python",
   "nbconvert_exporter": "python",
   "pygments_lexer": "ipython3",
   "version": "3.8.5"
  }
 },
 "nbformat": 4,
 "nbformat_minor": 4
}
