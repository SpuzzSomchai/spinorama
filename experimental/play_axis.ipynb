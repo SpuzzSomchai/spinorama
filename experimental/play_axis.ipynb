{
 "cells": [
  {
   "cell_type": "code",
   "execution_count": null,
   "id": "handled-rapid",
   "metadata": {},
   "outputs": [],
   "source": [
    "import numpy as np\n",
    "import pandas as pd\n",
    "import altair as alt"
   ]
  },
  {
   "cell_type": "code",
   "execution_count": null,
   "id": "enormous-confidentiality",
   "metadata": {},
   "outputs": [],
   "source": [
    "\n",
    "freq_min = 100\n",
    "freq_max = 20000\n",
    "angle_min = -180\n",
    "angle_max = 180 \n",
    "\n",
    "empty = pd.DataFrame({\"Freq\", \"Angle\"})\n",
    "isoTicks = [-180 + 30 * i for i in range(0, 13)]\n",
    "\n",
    "\n",
    "alt.Chart(empty).mark_point(clip=True\n",
    ").encode(\n",
    "    x=alt.X(\"x:Q\",\n",
    "            scale=alt.Scale(type=\"log\", nice=False, domain=[freq_min, freq_max]),\n",
    "            axis=alt.Axis(format='~s', title=\"Frequency (Hz)\"),\n",
    "    ),\n",
    "    y=alt.Y(\"y:Q\",\n",
    "            scale=alt.Scale(nice=False, domain=[angle_min, angle_max]),\n",
    "            axis=alt.Axis(values=isoTicks, title=\"Angle (deg)\", labelExpr=\"datum.value+'°'\"),\n",
    "    ),\n",
    ")\n",
    "\n"
   ]
  },
  {
   "cell_type": "code",
   "execution_count": null,
   "id": "driven-hazard",
   "metadata": {},
   "outputs": [],
   "source": []
  }
 ],
 "metadata": {
  "kernelspec": {
   "display_name": "Python 3",
   "language": "python",
   "name": "python3"
  },
  "language_info": {
   "codemirror_mode": {
    "name": "ipython",
    "version": 3
   },
   "file_extension": ".py",
   "mimetype": "text/x-python",
   "name": "python",
   "nbconvert_exporter": "python",
   "pygments_lexer": "ipython3",
   "version": "3.8.5"
  }
 },
 "nbformat": 4,
 "nbformat_minor": 5
}
