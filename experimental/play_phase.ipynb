{
 "cells": [
  {
   "cell_type": "code",
   "execution_count": null,
   "id": "apparent-cleaner",
   "metadata": {},
   "outputs": [],
   "source": [
    "import math\n",
    "import cmath\n",
    "import altair as alt\n",
    "import numpy as np\n",
    "import scipy \n",
    "import pandas as pd"
   ]
  },
  {
   "cell_type": "code",
   "execution_count": null,
   "id": "false-quantity",
   "metadata": {},
   "outputs": [],
   "source": [
    "names = ['Freq', 'dB', 'Phase']\n",
    "speaker = 'Genelec 8361 + W371 GLM (ON)'\n",
    "fs = 48000\n",
    "left = pd.read_csv(\"../datas/inroom/m002/L.large.txt\", skiprows=14, names=names)\n",
    "right = pd.read_csv(\"../datas/inroom/m002/R.large.txt\", skiprows=14, names=names)"
   ]
  },
  {
   "cell_type": "code",
   "execution_count": null,
   "id": "spectacular-brief",
   "metadata": {},
   "outputs": [],
   "source": [
    "def spl2pressure(spl):\n",
    "    return 10**((spl-105)/20)\n",
    "\n",
    "def pressure2spl(p):\n",
    "    return 105.0 + 20.0 * np.log10(p)"
   ]
  },
  {
   "cell_type": "code",
   "execution_count": null,
   "id": "prime-exemption",
   "metadata": {},
   "outputs": [],
   "source": [
    "def expend(df):\n",
    "    nFFT = len(df.Freq)+1\n",
    "    # extend freq from 0 to fs/2\n",
    "    freq = np.empty(len(df.Freq.values)+2)\n",
    "    freq[0] = 0\n",
    "    freq[1:-1]= df.Freq.values\n",
    "    freq[-1] = fs/2\n",
    "    # interpolate to have a gain at 0 Hz\n",
    "    gain_0 = df.dB[0]-df.Freq[0]*(df.dB[1]-df.dB[0])/(df.Freq[1]-df.Freq[0])\n",
    "    # interpolate for have a gain at fs/2\n",
    "    gain_fs2 = df.dB.values[-1]/2\n",
    "    gain = np.empty(len(df.Freq.values)+2)\n",
    "    gain[0] = gain_0\n",
    "    gain[1:-1] = df.dB.values\n",
    "    gain[-1] = gain_fs2\n",
    "    # interpolate across freq range\n",
    "    tck = interpolate.splrep(freq, gain)\n",
    "    gain = interpolate.splev(np.linspace(0, fs/2, nFFT), tck)\n",
    "    # symmetrize output\n",
    "    sym_gain = np.empty(2*nFFT-1)\n",
    "    sym_gain[0:nFFT] = gain\n",
    "    sym_gain[nFFT:] = gain[1:]\n",
    "    return sym_gain\n",
    "\n",
    "def minimum_phase(df):\n",
    "    x = expend(df)\n",
    "    n = len(x)\n",
    "    ceps = np.fft.ifft(x)\n",
    "    ceps_folded\n",
    "    ifft = np.fft.fft(ceps_folded)\n",
    "    min_phase = ifft[0:len(ifft)//2]\n",
    "    return pressure2spl(min_phase)\n",
    "\n",
    "left['MinPhase'] = minimum_phase(left)\n",
    "left['ExcessPhase'] = np.angle( np.array([cmath.rect(1, l*math.pi/180) for l in left.Phase])\n",
    "                               -np.array([cmath.rect(1, m*math.pi/180) for m in left.MinPhase]), \n",
    "                               deg=True)\n",
    "right['MinPhase'] = minimum_phase(right)\n",
    "right['ExcessPhase'] = np.angle( np.array([cmath.rect(1, l*math.pi/180) for l in right.Phase])\n",
    "                                -np.array([cmath.rect(1, m*math.pi/180) for m in right.MinPhase]), \n",
    "                                deg=True)"
   ]
  },
  {
   "cell_type": "code",
   "execution_count": null,
   "id": "least-coating",
   "metadata": {},
   "outputs": [],
   "source": [
    "def group_delay(freq, phase):\n",
    "    gd = np.zeros_like(freq)\n",
    "    gd[0] = -1*(phase[1]-phase[0])/(freq[1]-freq[0])/360\n",
    "    gd[1:-1] = [((phase[n]-phase[n-1])/(freq[n]-freq[n-1]))+((phase[n+1]-phase[n])/(freq[n+1]-freq[n])) for n in range(1, len(freq)-1)]\n",
    "    gd[1:-1] = -gd[1:-1]/720\n",
    "    gd[-1] = -1*(phase[-1]-phase[-2])/(freq[-1]-freq[-2])/360\n",
    "    return gd\n",
    "\n",
    "left['GroupDelay'] = group_delay(left.Freq.values, np.unwrap(left.Phase.values, 180))\n",
    "right['GroupDelay'] = group_delay(right.Freq.values, np.unwrap(right.Phase.values, 180))\n",
    "\n",
    "left['MinGroupDelay'] = group_delay(left.Freq.values, np.unwrap(left.MinPhase.values, 180))\n",
    "right['MinGroupDelay'] = group_delay(right.Freq.values, np.unwrap(right.MinPhase.values, 180))\n",
    "\n",
    "left['ExcessGroupDelay'] = group_delay(left.Freq.values, np.unwrap(left.ExcessPhase.values, 180))\n",
    "right['ExcessGroupDelay'] = group_delay(right.Freq.values, np.unwrap(right.ExcessPhase.values, 180))"
   ]
  },
  {
   "cell_type": "code",
   "execution_count": null,
   "id": "cardiovascular-alberta",
   "metadata": {},
   "outputs": [],
   "source": [
    "def impulse_response(df):\n",
    "    ir = np.fft.ifft(spl2pressure(expend(df))).real\n",
    "    return ir[0, len(ir)//2]\n",
    "    \n",
    "left_z = impulse_response(left)    "
   ]
  },
  {
   "cell_type": "code",
   "execution_count": null,
   "id": "conscious-seventh",
   "metadata": {},
   "outputs": [],
   "source": [
    "def plot(df, f_max):\n",
    "    x_axis=alt.X('Freq:Q', title='Frequency (Hz)', axis=alt.Axis(format='~s'), scale=alt.Scale(type=\"log\", nice=False, domain=[20, f_max]))\n",
    "    freq = alt.Chart(df.loc[df.Freq<=f_max]).mark_line(\n",
    "    ).encode(\n",
    "        x=x_axis,\n",
    "        y=alt.Y('dB:Q', title='Sound Pressure (dB SPL)', scale=alt.Scale(zero=False, domain=[30, 80])),\n",
    "        color=alt.value('blue')\n",
    "    ).properties(width=500, height=300)\n",
    "    \n",
    "    isoTicks = [-180 + 30 * i for i in range(0, 13)]\n",
    "    phase = alt.Chart(df.loc[df.Freq<=f_max]).mark_line(\n",
    "        clip=True,\n",
    "    ).encode(\n",
    "        x=x_axis,\n",
    "        y=alt.Y('Phase:Q', \n",
    "                axis=alt.Axis(title='Phase (deg)', values=isoTicks, labelExpr=\"datum.value+'°'\"), \n",
    "                scale=alt.Scale(zero=False, nice=False, domain=[-180, 180])),\n",
    "        color=alt.value('blue')\n",
    "    ).properties(width=500, height=200)\n",
    "    min_phase = alt.Chart(df.loc[df.Freq<=f_max]).mark_line(\n",
    "        clip=True\n",
    "    ).encode(\n",
    "        x=x_axis,\n",
    "        y=alt.Y('MinPhase:Q', title='Phase (deg)', scale=alt.Scale(zero=False, nice=False, domain=[-180, 180])),\n",
    "        color=alt.value('red')\n",
    "    ).properties(width=500, height=200)\n",
    "    excess_phase = alt.Chart(df.loc[df.Freq<=f_max]\n",
    "    ).mark_line(\n",
    "        clip=True\n",
    "    ).encode(\n",
    "        x=x_axis,\n",
    "        y=alt.Y('ExcessPhase:Q', title='Phase (deg)', scale=alt.Scale(zero=False, nice=False, domain=[-180, 180])),\n",
    "        color=alt.value('green')\n",
    "    ).properties(width=500, height=200)\n",
    "    \n",
    "    group_delay = alt.Chart(df.loc[df.Freq<=f_max]).mark_line(\n",
    "        clip=True\n",
    "    ).encode(\n",
    "        x=x_axis,\n",
    "        y=alt.Y('GroupDelay:Q', \n",
    "                axis=alt.Axis(title='Group Delay (ms)'), \n",
    "                scale=alt.Scale(zero=False, nice=False, domain=[-0.2, 0.2])),\n",
    "        color=alt.value('blue')\n",
    "    ).properties(width=500, height=200)\n",
    "    min_group_delay = alt.Chart(df.loc[df.Freq<=f_max]).mark_line(\n",
    "        clip=True\n",
    "    ).encode(\n",
    "        x=x_axis,\n",
    "        y=alt.Y('MinGroupDelay:Q', title='Group Delay (ms)', scale=alt.Scale(zero=False, nice=False, domain=[-0.2, 0.2])),\n",
    "        color=alt.value('red')\n",
    "    ).properties(width=500, height=200)\n",
    "    excess_group_delay = alt.Chart(df.loc[df.Freq<=f_max]).mark_line(\n",
    "        clip=True\n",
    "    ).encode(\n",
    "        x=x_axis,\n",
    "        y=alt.Y('ExcessGroupDelay:Q', title='Group Delay (ms)', scale=alt.Scale(zero=False, nice=False)),\n",
    "        color=alt.value('green')\n",
    "    ).properties(width=500, height=200)\n",
    "    chart = alt.vconcat(freq, phase+min_phase+excess_phase, group_delay+min_group_delay+excess_group_delay)\n",
    "    return chart"
   ]
  },
  {
   "cell_type": "code",
   "execution_count": null,
   "id": "hidden-uncle",
   "metadata": {},
   "outputs": [],
   "source": [
    "f_max = 200\n",
    "alt.hconcat(\n",
    "    plot(left, f_max).properties(title='{} Left'.format(speaker)), \n",
    "    plot(right, f_max).properties(title='{} Right'.format(speaker)))"
   ]
  },
  {
   "cell_type": "code",
   "execution_count": null,
   "id": "backed-queen",
   "metadata": {},
   "outputs": [],
   "source": [
    "nFFT = max(512, len(freq))\n",
    "# extend freq from 0 to fs/2\n",
    "freq = np.empty(len(df.Freq.values)+2)\n",
    "freq[0] = 0\n",
    "freq[1:-1]= df.Freq.values\n",
    "freq[-1] = fs/2\n",
    "# interpolate to have a gain at 0 Hz\n",
    "gain_0 = df.dB[0]-df.Freq[0]*(df.dB[1]-df.dB[0])/(df.Freq[1]-df.Freq[0])\n",
    "# interpolate for have a gain at fs/2\n",
    "gain_fs2 = df.dB.values[-1]/2\n",
    "gain = np.empty(len(df.Freq.values)+2)\n",
    "gain[0] = gain_0\n",
    "gain[1:-1] = df.dB.values\n",
    "gain[-1] = gain_fs2\n",
    "tck = interpolate.splrep(freq, gain)\n",
    "gain = interpolate.splev(np.linspace(0, fs/2, nFFT), tck)"
   ]
  },
  {
   "cell_type": "code",
   "execution_count": null,
   "id": "animated-pressing",
   "metadata": {},
   "outputs": [],
   "source": [
    "sym_gain = np.empty(2*nFFT-1)\n",
    "sym_gain[0:nFFT] = gain\n",
    "sym_gain[nFFT:] = gain[1:]"
   ]
  },
  {
   "cell_type": "code",
   "execution_count": null,
   "id": "brazilian-combine",
   "metadata": {},
   "outputs": [],
   "source": [
    "impulse_resp = np.fft.ifft(spl2pressure(expend(right))).real[0:nFFT-2]"
   ]
  },
  {
   "cell_type": "code",
   "execution_count": null,
   "id": "exempt-combination",
   "metadata": {},
   "outputs": [],
   "source": [
    "alt.data_transformers.disable_max_rows()\n",
    "\n",
    "nb_samp = 100\n",
    "alt.Chart(pd.DataFrame(\n",
    "    {'t': range(0, nb_samp), \n",
    "     'ir': impulse_resp[0:nb_samp]\n",
    "    })).mark_line(\n",
    ").encode(\n",
    "    x='t', \n",
    "    y='ir:Q'\n",
    ")"
   ]
  },
  {
   "cell_type": "code",
   "execution_count": null,
   "id": "satisfactory-feedback",
   "metadata": {},
   "outputs": [],
   "source": []
  },
  {
   "cell_type": "code",
   "execution_count": null,
   "id": "conventional-equilibrium",
   "metadata": {},
   "outputs": [],
   "source": []
  }
 ],
 "metadata": {
  "kernelspec": {
   "display_name": "Python 3",
   "language": "python",
   "name": "python3"
  },
  "language_info": {
   "codemirror_mode": {
    "name": "ipython",
    "version": 3
   },
   "file_extension": ".py",
   "mimetype": "text/x-python",
   "name": "python",
   "nbconvert_exporter": "python",
   "pygments_lexer": "ipython3",
   "version": "3.8.5"
  }
 },
 "nbformat": 4,
 "nbformat_minor": 5
}
