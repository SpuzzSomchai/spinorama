{
 "cells": [
  {
   "cell_type": "code",
   "execution_count": null,
   "id": "christian-justice",
   "metadata": {},
   "outputs": [],
   "source": [
    "import math\n",
    "import matplotlib.pyplot as plt\n",
    "from astropy.convolution import Gaussian2DKernel\n",
    "gaussian_2D_kernel = Gaussian2DKernel(1, 5)*(math.pi*10)\n",
    "plt.imshow(gaussian_2D_kernel, interpolation='none', origin='lower')\n",
    "plt.xlabel('x [pixels]')\n",
    "plt.ylabel('y [pixels]')\n",
    "plt.colorbar()\n",
    "plt.show()"
   ]
  },
  {
   "cell_type": "code",
   "execution_count": null,
   "id": "norman-radar",
   "metadata": {},
   "outputs": [],
   "source": []
  }
 ],
 "metadata": {
  "kernelspec": {
   "display_name": "Python 3",
   "language": "python",
   "name": "python3"
  },
  "language_info": {
   "codemirror_mode": {
    "name": "ipython",
    "version": 3
   },
   "file_extension": ".py",
   "mimetype": "text/x-python",
   "name": "python",
   "nbconvert_exporter": "python",
   "pygments_lexer": "ipython3",
   "version": "3.8.5"
  }
 },
 "nbformat": 4,
 "nbformat_minor": 5
}
