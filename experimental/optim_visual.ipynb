{
 "cells": [
  {
   "cell_type": "markdown",
   "metadata": {},
   "source": [
    "# Visualise results from optim algo for peqs"
   ]
  },
  {
   "cell_type": "code",
   "execution_count": 1,
   "metadata": {},
   "outputs": [],
   "source": [
    "import pandas as pd\n",
    "import altair as alt"
   ]
  },
  {
   "cell_type": "code",
   "execution_count": 4,
   "metadata": {},
   "outputs": [],
   "source": [
    "df = pd.read_csv('../results_iter.csv')"
   ]
  },
  {
   "cell_type": "code",
   "execution_count": 5,
   "metadata": {},
   "outputs": [
    {
     "data": {
      "text/html": [
       "<div>\n",
       "<style scoped>\n",
       "    .dataframe tbody tr th:only-of-type {\n",
       "        vertical-align: middle;\n",
       "    }\n",
       "\n",
       "    .dataframe tbody tr th {\n",
       "        vertical-align: top;\n",
       "    }\n",
       "\n",
       "    .dataframe thead th {\n",
       "        text-align: right;\n",
       "    }\n",
       "</style>\n",
       "<table border=\"1\" class=\"dataframe\">\n",
       "  <thead>\n",
       "    <tr style=\"text-align: right;\">\n",
       "      <th></th>\n",
       "      <th>speaker_name</th>\n",
       "      <th>iter</th>\n",
       "      <th>loss</th>\n",
       "      <th>score</th>\n",
       "    </tr>\n",
       "  </thead>\n",
       "  <tbody>\n",
       "  </tbody>\n",
       "</table>\n",
       "</div>"
      ],
      "text/plain": [
       "Empty DataFrame\n",
       "Columns: [speaker_name, iter, loss, score]\n",
       "Index: []"
      ]
     },
     "execution_count": 5,
     "metadata": {},
     "output_type": "execute_result"
    }
   ],
   "source": [
    "df.head()"
   ]
  },
  {
   "cell_type": "code",
   "execution_count": 6,
   "metadata": {},
   "outputs": [
    {
     "name": "stderr",
     "output_type": "stream",
     "text": [
      "/home/pierre/src/spinorama/spinorama-venv/lib/python3.8/site-packages/altair/utils/core.py:185: UserWarning: I don't know how to infer vegalite type from 'empty'.  Defaulting to nominal.\n",
      "  warnings.warn(\n"
     ]
    },
    {
     "data": {
      "text/html": [
       "\n",
       "<div id=\"altair-viz-5d51d066b65e4978adc1b473f1af7f31\"></div>\n",
       "<script type=\"text/javascript\">\n",
       "  (function(spec, embedOpt){\n",
       "    let outputDiv = document.currentScript.previousElementSibling;\n",
       "    if (outputDiv.id !== \"altair-viz-5d51d066b65e4978adc1b473f1af7f31\") {\n",
       "      outputDiv = document.getElementById(\"altair-viz-5d51d066b65e4978adc1b473f1af7f31\");\n",
       "    }\n",
       "    const paths = {\n",
       "      \"vega\": \"https://cdn.jsdelivr.net/npm//vega@5?noext\",\n",
       "      \"vega-lib\": \"https://cdn.jsdelivr.net/npm//vega-lib?noext\",\n",
       "      \"vega-lite\": \"https://cdn.jsdelivr.net/npm//vega-lite@4.8.1?noext\",\n",
       "      \"vega-embed\": \"https://cdn.jsdelivr.net/npm//vega-embed@6?noext\",\n",
       "    };\n",
       "\n",
       "    function loadScript(lib) {\n",
       "      return new Promise(function(resolve, reject) {\n",
       "        var s = document.createElement('script');\n",
       "        s.src = paths[lib];\n",
       "        s.async = true;\n",
       "        s.onload = () => resolve(paths[lib]);\n",
       "        s.onerror = () => reject(`Error loading script: ${paths[lib]}`);\n",
       "        document.getElementsByTagName(\"head\")[0].appendChild(s);\n",
       "      });\n",
       "    }\n",
       "\n",
       "    function showError(err) {\n",
       "      outputDiv.innerHTML = `<div class=\"error\" style=\"color:red;\">${err}</div>`;\n",
       "      throw err;\n",
       "    }\n",
       "\n",
       "    function displayChart(vegaEmbed) {\n",
       "      vegaEmbed(outputDiv, spec, embedOpt)\n",
       "        .catch(err => showError(`Javascript Error: ${err.message}<br>This usually means there's a typo in your chart specification. See the javascript console for the full traceback.`));\n",
       "    }\n",
       "\n",
       "    if(typeof define === \"function\" && define.amd) {\n",
       "      requirejs.config({paths});\n",
       "      require([\"vega-embed\"], displayChart, err => showError(`Error loading script: ${err.message}`));\n",
       "    } else if (typeof vegaEmbed === \"function\") {\n",
       "      displayChart(vegaEmbed);\n",
       "    } else {\n",
       "      loadScript(\"vega\")\n",
       "        .then(() => loadScript(\"vega-lite\"))\n",
       "        .then(() => loadScript(\"vega-embed\"))\n",
       "        .catch(showError)\n",
       "        .then(() => displayChart(vegaEmbed));\n",
       "    }\n",
       "  })({\"config\": {\"view\": {\"continuousWidth\": 400, \"continuousHeight\": 300}}, \"data\": {\"name\": \"data-d751713988987e9331980363e24189ce\"}, \"mark\": \"line\", \"encoding\": {\"color\": {\"type\": \"nominal\", \"field\": \"speaker_name\"}, \"x\": {\"type\": \"nominal\", \"field\": \"iter\"}, \"y\": {\"type\": \"quantitative\", \"field\": \"loss\"}}, \"$schema\": \"https://vega.github.io/schema/vega-lite/v4.8.1.json\", \"datasets\": {\"data-d751713988987e9331980363e24189ce\": []}}, {\"mode\": \"vega-lite\"});\n",
       "</script>"
      ],
      "text/plain": [
       "alt.Chart(...)"
      ]
     },
     "execution_count": 6,
     "metadata": {},
     "output_type": "execute_result"
    }
   ],
   "source": [
    "alt.Chart(df).mark_line().encode(\n",
    "    alt.X('iter:N'),\n",
    "    alt.Y('loss:Q'),\n",
    "    alt.Color('speaker_name')\n",
    ")"
   ]
  },
  {
   "cell_type": "code",
   "execution_count": 7,
   "metadata": {},
   "outputs": [
    {
     "data": {
      "text/html": [
       "\n",
       "<div id=\"altair-viz-c5a7288c2cfa4a4db92636917428c13f\"></div>\n",
       "<script type=\"text/javascript\">\n",
       "  (function(spec, embedOpt){\n",
       "    let outputDiv = document.currentScript.previousElementSibling;\n",
       "    if (outputDiv.id !== \"altair-viz-c5a7288c2cfa4a4db92636917428c13f\") {\n",
       "      outputDiv = document.getElementById(\"altair-viz-c5a7288c2cfa4a4db92636917428c13f\");\n",
       "    }\n",
       "    const paths = {\n",
       "      \"vega\": \"https://cdn.jsdelivr.net/npm//vega@5?noext\",\n",
       "      \"vega-lib\": \"https://cdn.jsdelivr.net/npm//vega-lib?noext\",\n",
       "      \"vega-lite\": \"https://cdn.jsdelivr.net/npm//vega-lite@4.8.1?noext\",\n",
       "      \"vega-embed\": \"https://cdn.jsdelivr.net/npm//vega-embed@6?noext\",\n",
       "    };\n",
       "\n",
       "    function loadScript(lib) {\n",
       "      return new Promise(function(resolve, reject) {\n",
       "        var s = document.createElement('script');\n",
       "        s.src = paths[lib];\n",
       "        s.async = true;\n",
       "        s.onload = () => resolve(paths[lib]);\n",
       "        s.onerror = () => reject(`Error loading script: ${paths[lib]}`);\n",
       "        document.getElementsByTagName(\"head\")[0].appendChild(s);\n",
       "      });\n",
       "    }\n",
       "\n",
       "    function showError(err) {\n",
       "      outputDiv.innerHTML = `<div class=\"error\" style=\"color:red;\">${err}</div>`;\n",
       "      throw err;\n",
       "    }\n",
       "\n",
       "    function displayChart(vegaEmbed) {\n",
       "      vegaEmbed(outputDiv, spec, embedOpt)\n",
       "        .catch(err => showError(`Javascript Error: ${err.message}<br>This usually means there's a typo in your chart specification. See the javascript console for the full traceback.`));\n",
       "    }\n",
       "\n",
       "    if(typeof define === \"function\" && define.amd) {\n",
       "      requirejs.config({paths});\n",
       "      require([\"vega-embed\"], displayChart, err => showError(`Error loading script: ${err.message}`));\n",
       "    } else if (typeof vegaEmbed === \"function\") {\n",
       "      displayChart(vegaEmbed);\n",
       "    } else {\n",
       "      loadScript(\"vega\")\n",
       "        .then(() => loadScript(\"vega-lite\"))\n",
       "        .then(() => loadScript(\"vega-embed\"))\n",
       "        .catch(showError)\n",
       "        .then(() => displayChart(vegaEmbed));\n",
       "    }\n",
       "  })({\"config\": {\"view\": {\"continuousWidth\": 400, \"continuousHeight\": 300}}, \"data\": {\"name\": \"data-d751713988987e9331980363e24189ce\"}, \"mark\": \"line\", \"encoding\": {\"color\": {\"type\": \"nominal\", \"field\": \"speaker_name\"}, \"x\": {\"type\": \"nominal\", \"field\": \"iter\"}, \"y\": {\"type\": \"quantitative\", \"field\": \"score\"}}, \"$schema\": \"https://vega.github.io/schema/vega-lite/v4.8.1.json\", \"datasets\": {\"data-d751713988987e9331980363e24189ce\": []}}, {\"mode\": \"vega-lite\"});\n",
       "</script>"
      ],
      "text/plain": [
       "alt.Chart(...)"
      ]
     },
     "execution_count": 7,
     "metadata": {},
     "output_type": "execute_result"
    }
   ],
   "source": [
    "alt.Chart(df).mark_line().encode(\n",
    "    alt.X('iter:N'),\n",
    "    alt.Y('score:Q'),\n",
    "    alt.Color('speaker_name')\n",
    ")"
   ]
  },
  {
   "cell_type": "code",
   "execution_count": 8,
   "metadata": {},
   "outputs": [
    {
     "data": {
      "text/plain": [
       "Index(['min', 'max'], dtype='object')"
      ]
     },
     "execution_count": 8,
     "metadata": {},
     "output_type": "execute_result"
    }
   ],
   "source": [
    "df_score = df.groupby('speaker_name').agg({'score': ['min', 'max']}).score\n",
    "df_score.keys()"
   ]
  },
  {
   "cell_type": "code",
   "execution_count": 37,
   "metadata": {},
   "outputs": [
    {
     "data": {
      "text/plain": [
       "array([  0.25099253,   0.16465958,   0.36730659,   0.29098743,\n",
       "         0.36986055,   0.30134309,   0.15951457,   0.7234459 ,\n",
       "         0.75028781,   0.32350886,   0.18604799,   1.30375823,\n",
       "         0.496131  ,   0.45341344,   0.31613411,   0.18234201,\n",
       "         1.03940766,   0.79966888,   0.16544565,   0.18627319,\n",
       "         0.65780031,   0.26042889,   0.41322969,   0.13950235,\n",
       "         0.65640267,   0.20538156,   0.11265376,   0.65806448,\n",
       "         0.25242803,   0.18259187,   0.23444845,   0.10700505,\n",
       "         0.11745976,   0.27636829,   1.21243437,   0.09358125,\n",
       "         0.17866937,   0.21601252,   0.06749364,   0.11190042,\n",
       "         0.07167378,   0.10669735,   0.16081403,   0.12454784,\n",
       "         0.16350868,   0.15254382,   0.24744672,   0.23540211,\n",
       "         1.12160244,   0.56306646,   0.3023927 ,   0.29516203,\n",
       "         0.24768919,   0.23324598,   0.26248274,   0.479314  ,\n",
       "         0.19170609,   1.01846316,   0.09228339,   0.21228546,\n",
       "         0.37419271,   0.26808475,   0.18040642,   0.16478228,\n",
       "         0.09405402,   0.53635644,   0.18496755,   0.52462129,\n",
       "         0.4413722 ,   0.58820456, -12.59676628,   0.71159416,\n",
       "         0.22707032,   0.4013069 ,   0.23002915,   0.19917954,\n",
       "         0.0813816 ,   0.93594508,   0.41044684,   0.25745266,\n",
       "         0.49513749,   0.26924236,   0.39669684,   0.1942914 ,\n",
       "         0.28846189,   0.43303595,   0.26777322,   1.10352938,\n",
       "         0.38972789,   0.30829329,   0.55159092,   1.50282728,\n",
       "         0.18175948,   0.0622358 ,   0.13216159,   0.15644922,\n",
       "         0.05833839,   0.0931135 ,   0.10218001,   0.14442051,\n",
       "         0.57823837,   0.12493615,   0.38151616,   0.30035716,\n",
       "         0.21177242,   0.24419665,   0.24851929,   0.67034366,\n",
       "         0.7006094 ,   0.30438625,   0.30103924,   0.31715968,\n",
       "         0.3136932 ,   0.51688724,   0.39979764,   0.67865575,\n",
       "         0.11927715])"
      ]
     },
     "execution_count": 37,
     "metadata": {},
     "output_type": "execute_result"
    }
   ],
   "source": [
    "1-df_score['min'].values/df_score['max'].values"
   ]
  },
  {
   "cell_type": "code",
   "execution_count": 38,
   "metadata": {},
   "outputs": [
    {
     "data": {
      "text/html": [
       "<div>\n",
       "<style scoped>\n",
       "    .dataframe tbody tr th:only-of-type {\n",
       "        vertical-align: middle;\n",
       "    }\n",
       "\n",
       "    .dataframe tbody tr th {\n",
       "        vertical-align: top;\n",
       "    }\n",
       "\n",
       "    .dataframe thead th {\n",
       "        text-align: right;\n",
       "    }\n",
       "</style>\n",
       "<table border=\"1\" class=\"dataframe\">\n",
       "  <thead>\n",
       "    <tr style=\"text-align: right;\">\n",
       "      <th></th>\n",
       "      <th>speaker_name</th>\n",
       "      <th>iter</th>\n",
       "      <th>loss</th>\n",
       "      <th>score</th>\n",
       "    </tr>\n",
       "  </thead>\n",
       "  <tbody>\n",
       "    <tr>\n",
       "      <th>0</th>\n",
       "      <td>ATC SCM19 v1</td>\n",
       "      <td>0</td>\n",
       "      <td>38.383551</td>\n",
       "      <td>4.586173</td>\n",
       "    </tr>\n",
       "    <tr>\n",
       "      <th>1</th>\n",
       "      <td>ATC SCM19 v1</td>\n",
       "      <td>1</td>\n",
       "      <td>11.462271</td>\n",
       "      <td>4.992305</td>\n",
       "    </tr>\n",
       "    <tr>\n",
       "      <th>2</th>\n",
       "      <td>ATC SCM19 v1</td>\n",
       "      <td>2</td>\n",
       "      <td>7.786946</td>\n",
       "      <td>5.116713</td>\n",
       "    </tr>\n",
       "    <tr>\n",
       "      <th>3</th>\n",
       "      <td>ATC SCM19 v1</td>\n",
       "      <td>3</td>\n",
       "      <td>5.750111</td>\n",
       "      <td>5.364633</td>\n",
       "    </tr>\n",
       "    <tr>\n",
       "      <th>4</th>\n",
       "      <td>ATC SCM19 v1</td>\n",
       "      <td>4</td>\n",
       "      <td>4.325763</td>\n",
       "      <td>5.472799</td>\n",
       "    </tr>\n",
       "    <tr>\n",
       "      <th>...</th>\n",
       "      <td>...</td>\n",
       "      <td>...</td>\n",
       "      <td>...</td>\n",
       "      <td>...</td>\n",
       "    </tr>\n",
       "    <tr>\n",
       "      <th>2569</th>\n",
       "      <td>Zaph Audio ZA5</td>\n",
       "      <td>17</td>\n",
       "      <td>2.813188</td>\n",
       "      <td>6.341612</td>\n",
       "    </tr>\n",
       "    <tr>\n",
       "      <th>2570</th>\n",
       "      <td>Zaph Audio ZA5</td>\n",
       "      <td>18</td>\n",
       "      <td>2.693208</td>\n",
       "      <td>6.375327</td>\n",
       "    </tr>\n",
       "    <tr>\n",
       "      <th>2571</th>\n",
       "      <td>Zaph Audio ZA5</td>\n",
       "      <td>19</td>\n",
       "      <td>2.562019</td>\n",
       "      <td>6.369040</td>\n",
       "    </tr>\n",
       "    <tr>\n",
       "      <th>2572</th>\n",
       "      <td>Zaph Audio ZA5</td>\n",
       "      <td>20</td>\n",
       "      <td>2.519687</td>\n",
       "      <td>6.368614</td>\n",
       "    </tr>\n",
       "    <tr>\n",
       "      <th>2573</th>\n",
       "      <td>Zaph Audio ZA5</td>\n",
       "      <td>20</td>\n",
       "      <td>2.519687</td>\n",
       "      <td>6.368614</td>\n",
       "    </tr>\n",
       "  </tbody>\n",
       "</table>\n",
       "<p>2574 rows × 4 columns</p>\n",
       "</div>"
      ],
      "text/plain": [
       "        speaker_name  iter       loss     score\n",
       "0       ATC SCM19 v1     0  38.383551  4.586173\n",
       "1       ATC SCM19 v1     1  11.462271  4.992305\n",
       "2       ATC SCM19 v1     2   7.786946  5.116713\n",
       "3       ATC SCM19 v1     3   5.750111  5.364633\n",
       "4       ATC SCM19 v1     4   4.325763  5.472799\n",
       "...              ...   ...        ...       ...\n",
       "2569  Zaph Audio ZA5    17   2.813188  6.341612\n",
       "2570  Zaph Audio ZA5    18   2.693208  6.375327\n",
       "2571  Zaph Audio ZA5    19   2.562019  6.369040\n",
       "2572  Zaph Audio ZA5    20   2.519687  6.368614\n",
       "2573  Zaph Audio ZA5    20   2.519687  6.368614\n",
       "\n",
       "[2574 rows x 4 columns]"
      ]
     },
     "execution_count": 38,
     "metadata": {},
     "output_type": "execute_result"
    }
   ],
   "source": [
    "df"
   ]
  },
  {
   "cell_type": "code",
   "execution_count": null,
   "metadata": {},
   "outputs": [],
   "source": []
  }
 ],
 "metadata": {
  "kernelspec": {
   "display_name": "Python 3",
   "language": "python",
   "name": "python3"
  },
  "language_info": {
   "codemirror_mode": {
    "name": "ipython",
    "version": 3
   },
   "file_extension": ".py",
   "mimetype": "text/x-python",
   "name": "python",
   "nbconvert_exporter": "python",
   "pygments_lexer": "ipython3",
   "version": "3.8.5"
  }
 },
 "nbformat": 4,
 "nbformat_minor": 4
}
