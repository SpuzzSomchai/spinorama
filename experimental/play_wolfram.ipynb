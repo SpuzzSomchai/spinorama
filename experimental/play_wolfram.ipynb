{
 "cells": [
  {
   "cell_type": "markdown",
   "id": "compact-lindsay",
   "metadata": {},
   "source": [
    "Experiments with Mathematica Engine"
   ]
  },
  {
   "cell_type": "code",
   "execution_count": null,
   "id": "compact-portuguese",
   "metadata": {},
   "outputs": [],
   "source": [
    "RewFormat`RewFormatImport[filename_String, options___] :=\n",
    " \n",
    " Module[{strm, head, data},\n",
    "  strm = OpenRead[filename];\n",
    "  head = ReadList[strm, \"String\", 14];\n",
    "  data = Flatten[Partition[ReadList[strm, Record, RecordSeparators -> {\"\\n\"}], 15]];\n",
    "  real = Transpose[Table[Interpreter[\"Number\"][StringSplit[x, \",\"]], {x, data}]];\n",
    "  freq = real[[1]];\n",
    "  gain = real[[2]];\n",
    "  phase= real[[3]];\n",
    "  Close[strm];\n",
    "  (* the converter returns a list of rules,\n",
    "   in the form of ElementName \\[Rule] ElementValue *)\n",
    "  {\n",
    "   \"Header\" -> head,\n",
    "   \"Freq\" -> freq,\n",
    "   \"Gain\"-> gain,\n",
    "   \"Phase\" -> phase\n",
    "   }\n",
    "  ]\n",
    "  \n",
    "ImportExport`RegisterImport[\"REW\", RewFormat`RewFormatImport]"
   ]
  },
  {
   "cell_type": "code",
   "execution_count": null,
   "id": "knowing-conducting",
   "metadata": {},
   "outputs": [],
   "source": [
    "L = Import[\"../datas/inroom/m001/L.txt\", {\"REW\"}];\n",
    "R = Import[\"../datas/inroom/m001/R.txt\", {\"REW\"}];"
   ]
  },
  {
   "cell_type": "code",
   "execution_count": null,
   "id": "prepared-marsh",
   "metadata": {},
   "outputs": [],
   "source": [
    "Tau = 360;\n",
    "Unwrap[a_] := a - Tau Prepend[Accumulate[Round[Differences[a]/Tau]], 0];\n",
    "\n",
    "Lfreq = L[[2]][[2]];\n",
    "Lgain = L[[3]][[2]];\n",
    "Lphase = Unwrap[L[[4]][[2]]*Pi/180];\n",
    "LPointsGain = Transpose@{Lfreq, Lgain};\n",
    "LPointsPhase = Transpose@{Lfreq, Lphase};\n",
    "Rfreq = R[[2]][[2]];\n",
    "Rgain = R[[3]][[2]];\n",
    "Rphase = Unwrap[R[[4]][[2]]*Pi/180];\n",
    "RPointsGain = Transpose@{Rfreq, Rgain};\n",
    "RPointsPhase = Transpose@{Rfreq, Rphase};"
   ]
  },
  {
   "cell_type": "code",
   "execution_count": null,
   "id": "competent-picture",
   "metadata": {},
   "outputs": [],
   "source": [
    "maxFreq = 300;\n",
    "ListLinePlot[\n",
    "    {Select[LPointsGain, #[[1]]<maxFreq&], Select[RPointsGain, #[[1]]<maxFreq&]},\n",
    "    AxesOrigin -> {20, 30},\n",
    "    FrameLabel -> {\"Frequenzy (Hz)\", \"dB SPL\"},\n",
    "    PlotLabel -> \"(Gain) Left v.s. Right for test1\",\n",
    "    PlotLegends -> {\"Left\", \"Right\"}, \n",
    "    ScalingFunctions -> {\"Log\", None},\n",
    "    ImageSize -> Large,\n",
    "    PlotTheme -> \"Detailed\"]"
   ]
  },
  {
   "cell_type": "code",
   "execution_count": null,
   "id": "surprised-thread",
   "metadata": {},
   "outputs": [],
   "source": [
    "maxFreq = 300;\n",
    "ListLinePlot[\n",
    "    {Select[LPointsPhase, #[[1]]<maxFreq&], Select[RPointsPhase, #[[1]]<maxFreq&]}, \n",
    "    FrameLabel -> {\"Frequenzy (Hz)\", \"Phase (Deg)\"},\n",
    "    PlotLabel -> \"(Phase) Left v.s. Right for test1\",\n",
    "    PlotLegends -> {\"Left\", \"Right\"}, \n",
    "    ScalingFunctions -> {\"Log\", None},\n",
    "    ImageSize -> Large,\n",
    "    PlotTheme -> \"Detailed\"]"
   ]
  },
  {
   "cell_type": "code",
   "execution_count": null,
   "id": "economic-stress",
   "metadata": {},
   "outputs": [],
   "source": [
    "maxFreq = 300;\n",
    "LGroupDelay = ListConvolve[{1, -1}, Select[LPointsPhase, #[[1]]<maxFreq&][[All, 2]]];\n",
    "RGroupDelay = ListConvolve[{1, -1}, Select[RPointsPhase, #[[1]]<maxFreq&][[All, 2]]];\n"
   ]
  },
  {
   "cell_type": "code",
   "execution_count": null,
   "id": "absolute-crawford",
   "metadata": {},
   "outputs": [],
   "source": [
    "ListLinePlot[\n",
    "    {LGroupDelay, RGroupDelay}, \n",
    "    FrameLabel -> {\"Time (ms)\", \"Deg/s\"},\n",
    "    PlotLabel -> \"(Group Delay) Left v.s. Right for test1\",\n",
    "    PlotLegends -> {\"Left\", \"Right\"}, \n",
    "    ImageSize -> Large,\n",
    "    PlotTheme -> \"Detailed\"]"
   ]
  },
  {
   "cell_type": "code",
   "execution_count": null,
   "id": "decimal-paint",
   "metadata": {},
   "outputs": [],
   "source": [
    "Lz = Map[Complex[#1[[1]], #1[[2]]]&, LPointsPhase];\n",
    "Rz = Map[Complex[#1[[1]], #1[[2]]]&, RPointsPhase];"
   ]
  },
  {
   "cell_type": "code",
   "execution_count": null,
   "id": "former-ancient",
   "metadata": {},
   "outputs": [],
   "source": [
    "pLz = Arg[InverseFourier[Lz]];\n",
    "pRz = Arg[InverseFourier[Rz]];\n",
    "ListPlot[{pLz, pRz}]"
   ]
  },
  {
   "cell_type": "code",
   "execution_count": null,
   "id": "funky-montgomery",
   "metadata": {},
   "outputs": [],
   "source": []
  },
  {
   "cell_type": "code",
   "execution_count": null,
   "id": "enhanced-honey",
   "metadata": {},
   "outputs": [],
   "source": []
  }
 ],
 "metadata": {
  "kernelspec": {
   "display_name": "Wolfram Language 12.2",
   "language": "Wolfram Language",
   "name": "wolframlanguage12.2"
  },
  "language_info": {
   "codemirror_mode": "mathematica",
   "file_extension": ".m",
   "mimetype": "application/vnd.wolfram.m",
   "name": "Wolfram Language",
   "pygments_lexer": "mathematica",
   "version": "12.0"
  }
 },
 "nbformat": 4,
 "nbformat_minor": 5
}
