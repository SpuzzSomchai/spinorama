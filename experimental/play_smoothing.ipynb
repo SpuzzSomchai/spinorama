{
 "cells": [
  {
   "cell_type": "markdown",
   "metadata": {},
   "source": [
    "How is the pref score changing with noisy data (or smoother data)"
   ]
  },
  {
   "cell_type": "code",
   "execution_count": null,
   "metadata": {},
   "outputs": [],
   "source": [
    "import math\n",
    "import pandas as pd\n",
    "import altair as alt\n",
    "import numpy as np\n",
    "import flammkuchen as fl\n",
    "\n",
    "import sys,os,os.path\n",
    "sys.path.append(os.path.expanduser('../src'))\n",
    "\n",
    "from spinorama.compute_cea2034 import estimated_inroom\n",
    "from spinorama.compute_scores import scores\n",
    "from spinorama.graph import graph_params_default, graph_freq, graph_spinorama\n",
    "from spinorama.load import filter_graphs, load_normalize\n",
    "\n",
    "df_all = fl.load('../cache.parse_all_speakers.h5')"
   ]
  },
  {
   "cell_type": "markdown",
   "metadata": {},
   "source": [
    "Test 2 strategies: add noise and smooth by average over a rolling window"
   ]
  },
  {
   "cell_type": "code",
   "execution_count": null,
   "metadata": {},
   "outputs": [],
   "source": [
    "def noise(df, amp):\n",
    "    sdf = df.copy()\n",
    "    l = len(sdf.Freq.values)\n",
    "    for c in sdf.columns:\n",
    "        if c != 'Freq':\n",
    "            sdf[c] += amp*(np.random.rand(l)-0.5)\n",
    "    return sdf\n",
    "\n",
    "def smooth(df, amp):\n",
    "    sdf = df.copy()\n",
    "    l = len(sdf.Freq.values)\n",
    "    for c in sdf.columns:\n",
    "        if c != 'Freq':\n",
    "            sdf[c] = sdf[c].rolling(amp).mean()\n",
    "    sdf.fillna(df)\n",
    "    return sdf"
   ]
  },
  {
   "cell_type": "code",
   "execution_count": null,
   "metadata": {},
   "outputs": [],
   "source": [
    "def eval_score_noise(df_all, speaker, origin, version, amplitude):\n",
    "    df_klippel = df_all[speaker][origin][version]\n",
    "    spl_H = noise(df_klippel['SPL Horizontal_unmelted'], amplitude)\n",
    "    spl_V = noise(df_klippel['SPL Vertical_unmelted'], amplitude)\n",
    "    df_smoothed = load_normalize(filter_graphs(speaker, spl_H, spl_V))\n",
    "    return scores(df_smoothed)['pref_score']\n",
    "\n",
    "def eval_score_smooth(df_all, speaker, origin, version, amplitude):\n",
    "    df_klippel = df_all[speaker][origin][version]\n",
    "    if amplitude == 0:\n",
    "        spl_H = df_klippel['SPL Horizontal_unmelted']\n",
    "        spl_V = df_klippel['SPL Vertical_unmelted']\n",
    "    else:\n",
    "        spl_H = smooth(df_klippel['SPL Horizontal_unmelted'], amplitude)\n",
    "        spl_V = smooth(df_klippel['SPL Vertical_unmelted'], amplitude)\n",
    "    df_smoothed = load_normalize(filter_graphs(speaker, spl_H, spl_V))\n",
    "    return scores(df_smoothed)['pref_score']"
   ]
  },
  {
   "cell_type": "code",
   "execution_count": null,
   "metadata": {},
   "outputs": [],
   "source": [
    "speakers = ['Adam S2V', 'Emotiva Airmotiv B1+', 'Genelec 8030C', 'Dutch Dutch 8C']\n",
    "origins  = ['ASR',      'ASR',                  'ASR'          , 'ErinsAudioCorner']\n",
    "versions = ['asr',      'asr',                  'asr',           'eac']"
   ]
  },
  {
   "cell_type": "code",
   "execution_count": null,
   "metadata": {},
   "outputs": [],
   "source": [
    "range_noise = np.linspace(0, 3, 12)\n",
    "range_smooth = [0, 2, 3, 4, 5, 6, 7, 8, 9, 10, 11, 12, 13, 14, 15, 20, 30]"
   ]
  },
  {
   "cell_type": "code",
   "execution_count": null,
   "metadata": {},
   "outputs": [],
   "source": [
    "df_noise = pd.DataFrame({'Amplitude': range_noise})\n",
    "df_smooth = pd.DataFrame({'Window': range_smooth})\n",
    "\n",
    "for speaker, origin, version in zip(speakers, origins, versions):\n",
    "    res_noise = [(a, eval_score_noise(df_all, speaker, origin, version, a)) for a in range_noise]\n",
    "    df_noise[speaker] = [j for i,j in res_noise]\n",
    "    res_smooth = [(a, eval_score_smooth(df_all, speaker, origin, version, a)) for a in range_smooth]\n",
    "    df_smooth[speaker] = [j for i,j in res_smooth]\n",
    "    "
   ]
  },
  {
   "cell_type": "code",
   "execution_count": null,
   "metadata": {},
   "outputs": [],
   "source": [
    "chart_noise = alt.Chart(df_noise.melt('Amplitude', var_name='Speakers', value_name='Score')\n",
    ").mark_line(\n",
    ").encode(\n",
    "    x=alt.X('Amplitude:N', axis=alt.Axis(format='.1f', title='Noise amplitude (dB)')), \n",
    "    y=alt.Y('Score:Q', scale=alt.Scale(domain=[4,9])),\n",
    "    color=alt.Color('Speakers:N'),\n",
    ").properties(width=400, title='Score v.s. Noise')\n",
    "chart_smooth = alt.Chart(df_smooth.melt('Window', var_name='Speakers', value_name='Score')\n",
    ").mark_line(\n",
    ").encode(\n",
    "    x=alt.X('Window:N', axis=alt.Axis(title='Size of the rolling window')),\n",
    "    y=alt.Y('Score:Q', scale=alt.Scale(domain=[4,9])),\n",
    "    color=alt.Color('Speakers:N'),\n",
    ").properties(width=400, title='Score v.s. Smoothing')"
   ]
  },
  {
   "cell_type": "code",
   "execution_count": null,
   "metadata": {},
   "outputs": [],
   "source": [
    "chart_noise|chart_smooth"
   ]
  },
  {
   "cell_type": "markdown",
   "metadata": {},
   "source": [
    "Can we estimates the smoothness of a curve?"
   ]
  },
  {
   "cell_type": "code",
   "execution_count": null,
   "metadata": {},
   "outputs": [],
   "source": [
    "res = []\n",
    "for speaker, speaker_data in df_all.items():\n",
    "    for origin, measurements in speaker_data.items():\n",
    "        version = list(df_all[speaker][origin].keys())[0]\n",
    "        bv = None\n",
    "        cea2034 = None\n",
    "        if 'CEA2034_unmelted' in df_all[speaker][origin][version].keys():\n",
    "            cea2034 = df_all[speaker][origin][version]['CEA2034_unmelted']\n",
    "        elif 'CEA2034' in df_all[speaker][origin][version].keys():\n",
    "            cea2034_tmp = df_all[speaker][origin][version]['CEA2034']\n",
    "            try:\n",
    "                cea2034 = cea2034_tmp.pivot(*cea2034_tmp).rename_axis(columns=None).reset_index()\n",
    "            except ValueError as ve:\n",
    "                # print('{} pivot failed {}'.format(speaker, ve))\n",
    "                continue\n",
    "        if cea2034 is not None and 'On Axis' in cea2034.keys() and 'Freq' in cea2034.keys():\n",
    "            onaxis = cea2034['On Axis']\n",
    "            freq = cea2034['Freq']\n",
    "            bv = np.sum(np.clip(np.abs(np.gradient(onaxis)), 0, 5))\n",
    "            bm = np.max(np.clip(np.abs(np.gradient(onaxis)), 0, 5))\n",
    "            res.append((origin, bv, bm, speaker))\n",
    "\n",
    "for (origin, bv, bm, speaker) in sorted(res):\n",
    "    print('{:>25s} {:=5.1f} {:=5.1f} {:>50s}'.format(origin, bv, bm, speaker))"
   ]
  },
  {
   "cell_type": "code",
   "execution_count": null,
   "metadata": {},
   "outputs": [],
   "source": []
  },
  {
   "cell_type": "code",
   "execution_count": null,
   "metadata": {},
   "outputs": [],
   "source": []
  }
 ],
 "metadata": {
  "kernelspec": {
   "display_name": "Python 3",
   "language": "python",
   "name": "python3"
  },
  "language_info": {
   "codemirror_mode": {
    "name": "ipython",
    "version": 3
   },
   "file_extension": ".py",
   "mimetype": "text/x-python",
   "name": "python",
   "nbconvert_exporter": "python",
   "pygments_lexer": "ipython3",
   "version": "3.8.5"
  }
 },
 "nbformat": 4,
 "nbformat_minor": 4
}
