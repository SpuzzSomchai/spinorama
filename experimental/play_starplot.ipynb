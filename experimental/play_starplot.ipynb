{
 "cells": [
  {
   "cell_type": "code",
   "execution_count": null,
   "id": "impressed-lightweight",
   "metadata": {},
   "outputs": [],
   "source": [
    "import math\n",
    "import numpy as np\n",
    "import pandas as pd\n",
    "import altair as alt"
   ]
  },
  {
   "cell_type": "raw",
   "id": "photographic-kansas",
   "metadata": {},
   "source": [
    "(pid=14910) Printing 3 graphs\n",
    "(pid=14910)          SPK FLT\n",
    "(pid=14910) -----------------\n",
    "(pid=14910) NBD  ON 0.51 0.36\n",
    "(pid=14910) NBD  LW 0.46 0.28\n",
    "(pid=14910) NBD PIR 0.42 0.29\n",
    "(pid=14910) SM  PIR 0.83 0.86\n",
    "(pid=14910) SM   SP 0.91 0.92\n",
    "(pid=14910) LFX       41   42\n",
    "(pid=14910) LFQ     1.12 1.14\n",
    "(pid=14910) -----------------\n",
    "(pid=14910) Score    5.1  5.9\n",
    "(pid=14910) -----------------"
   ]
  },
  {
   "cell_type": "code",
   "execution_count": null,
   "id": "integrated-grounds",
   "metadata": {},
   "outputs": [],
   "source": [
    "data = {\n",
    "    'NBD ON': [0.51, 0.36],\n",
    "    'NBD LW': [0.46, 0.28],\n",
    "    'NDB PIR': [0.42, 0.29],\n",
    "    'SM PIR': [0.83, 0.86],\n",
    "    'SM SP': [0.91, 0.92],\n",
    "    'LFQ': [1.12, 1.14],\n",
    "}"
   ]
  },
  {
   "cell_type": "code",
   "execution_count": null,
   "id": "forty-cement",
   "metadata": {},
   "outputs": [],
   "source": [
    "nb = len(list(data.keys()))\n",
    "nb"
   ]
  },
  {
   "cell_type": "code",
   "execution_count": null,
   "id": "unavailable-grade",
   "metadata": {},
   "outputs": [],
   "source": [
    "angle = np.deg2rad([i*360/nb for i in range(0, nb)])\n",
    "np.rad2deg(angle)"
   ]
  },
  {
   "cell_type": "code",
   "execution_count": null,
   "id": "pressed-packing",
   "metadata": {},
   "outputs": [],
   "source": [
    "radius = 1\n",
    "steps = 5\n",
    "circle = [(radius*math.cos(i*steps*math.pi/180), radius*math.sin(i*steps*math.pi/180)) for i in range(0, 360//steps)]\n",
    "circle.append(circle[0])\n",
    "coordinates0 = [(v[0]*radius*math.cos(angle[i]), v[0]*radius*math.sin(angle[i])) for i, (k, v) in enumerate(data.items())]\n",
    "coordinates0.append(coordinates0[0])\n",
    "coordinates1 = [(v[1]*radius*math.cos(angle[i]), v[1]*radius*math.sin(angle[i])) for i, (k, v) in enumerate(data.items())]\n",
    "coordinates1.append(coordinates1[0])\n",
    "coordinates0, coordinates1"
   ]
  },
  {
   "cell_type": "code",
   "execution_count": null,
   "id": "brilliant-chemical",
   "metadata": {},
   "outputs": [],
   "source": [
    "dfC = pd.DataFrame({\n",
    "    'x': [x for x, y in circle], \n",
    "    'y': [y for x, y in circle],\n",
    "})\n",
    "df0 = pd.DataFrame({\n",
    "    'x': [x for x, y in coordinates0], \n",
    "    'y': [y for x, y in coordinates0],\n",
    "})\n",
    "df1 = pd.DataFrame({\n",
    "    'x': [x for x, y in coordinates1], \n",
    "    'y': [y for x, y in coordinates1],\n",
    "})"
   ]
  },
  {
   "cell_type": "code",
   "execution_count": null,
   "id": "registered-citizen",
   "metadata": {},
   "outputs": [],
   "source": [
    "def project(df, color):\n",
    "    return alt.Chart(df).mark_line().encode(\n",
    "        alt.Latitude('x:Q'),\n",
    "        alt.Longitude('y:Q'),\n",
    "        color=alt.value(color),\n",
    "    ).project(type=\"azimuthalEquidistant\", rotate=[0, 0, 90])\n",
    "\n",
    "ci = project(dfC, 'black')\n",
    "c0 = project(df0, 'green')\n",
    "c1 = project(df1, 'red')\n",
    "ci+c0+c1"
   ]
  },
  {
   "cell_type": "code",
   "execution_count": null,
   "id": "blond-boring",
   "metadata": {},
   "outputs": [],
   "source": []
  },
  {
   "cell_type": "code",
   "execution_count": null,
   "id": "young-validation",
   "metadata": {},
   "outputs": [],
   "source": []
  }
 ],
 "metadata": {
  "kernelspec": {
   "display_name": "Python 3",
   "language": "python",
   "name": "python3"
  },
  "language_info": {
   "codemirror_mode": {
    "name": "ipython",
    "version": 3
   },
   "file_extension": ".py",
   "mimetype": "text/x-python",
   "name": "python",
   "nbconvert_exporter": "python",
   "pygments_lexer": "ipython3",
   "version": "3.8.5"
  }
 },
 "nbformat": 4,
 "nbformat_minor": 5
}
