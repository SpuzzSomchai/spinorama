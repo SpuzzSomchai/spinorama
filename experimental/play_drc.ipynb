{
 "cells": [
  {
   "cell_type": "code",
   "execution_count": null,
   "id": "double-turkey",
   "metadata": {},
   "outputs": [],
   "source": [
    "import math\n",
    "import numpy as np\n",
    "from scipy import signal\n",
    "import pandas as pd\n",
    "import altair as alt"
   ]
  },
  {
   "cell_type": "code",
   "execution_count": null,
   "id": "discrete-roberts",
   "metadata": {},
   "outputs": [],
   "source": [
    "df_L = pd.read_csv(\n",
    "    filepath_or_buffer='../datas/inroom/m001/L.txt', \n",
    "    sep=',', \n",
    "    header=14,\n",
    "    names=['Freq', 'dB', 'Phase'])\n",
    "df_R = pd.read_csv(\n",
    "    filepath_or_buffer='../datas/inroom/m001/R.txt', \n",
    "    sep=',', \n",
    "    header=14,\n",
    "    names=['Freq', 'dB', 'Phase'])"
   ]
  },
  {
   "cell_type": "code",
   "execution_count": null,
   "id": "united-slovakia",
   "metadata": {},
   "outputs": [],
   "source": [
    "def graph_freq_axis(max_freq):\n",
    "    return alt.X(\n",
    "            \"Freq:Q\",\n",
    "            title=\"Freqency (Hz)\",\n",
    "            scale=alt.Scale(type=\"log\", base=10, nice=False, domain=[20, max_freq]),\n",
    "            axis=alt.Axis(format=\"s\"))\n",
    "\n",
    "def graph_base(df, max_freq, color):\n",
    "    chart_base = alt.Chart(df.loc[df.Freq<max_freq]).mark_line().encode(\n",
    "        graph_freq_axis(max_freq),\n",
    "        color=alt.value(color)\n",
    "    )\n",
    "    return chart_base.encode(y=alt.Y('dB:Q', scale=alt.Scale(domain=[30, 80]), axis=alt.Axis(grid=True)))\n",
    "\n",
    "def graph_loess(df, max_freq, color):\n",
    "    chart = graph_base(df, max_freq, color)\n",
    "    return chart, chart.transform_loess('Freq', 'dB', bandwidth=0.16).mark_line().encode(color=alt.value('red'))\n",
    "\n",
    "def graph_phase(df, max_freq, color):\n",
    "    return alt.Chart(df.loc[df.Freq<max_freq]).mark_line().encode(\n",
    "        graph_freq_axis(max_freq),\n",
    "        y=alt.Y('Phase:Q', \n",
    "                scale=alt.Scale(zero=False, domain=[-180, 180+360], nice=False),\n",
    "                axis=alt.Axis(\n",
    "                    tickCount=36, \n",
    "                    tickMinStep=30,\n",
    "                    labelExpr=\"datum.value % 60 | datum.value > 180 ? null : datum.label\", \n",
    "                        #format=f'format(datum.Phase, \"3d\")')),\n",
    "                    format=\">-3d\")),\n",
    "        color=alt.value(color)\n",
    "    )\n",
    "\n",
    "def graph_groupdelay(df, max_freq, color):\n",
    "    return alt.Chart(df.loc[df.Freq<max_freq]).mark_line().encode(\n",
    "        graph_freq_axis(max_freq),\n",
    "        y=alt.Y('GroupDelay:Q', \n",
    "                scale=alt.Scale(zero=False, domain=[-math.pi, math.pi], nice=True)),\n",
    "        color=alt.value(color)\n",
    "    )\n",
    "\n",
    "def graph(df, df_target, max_freq, title):\n",
    "    chart_freq, chart_freq_loess = graph_loess(df, max_freq, 'blue')\n",
    "    chart_phase = graph_phase(df, max_freq, 'green')\n",
    "    chart_target = graph_base(df_target, max_freq, 'black')\n",
    "    return alt.layer(chart_freq + chart_freq_loess + chart_target, chart_phase).resolve_scale(y='independent').properties(title=title)\n",
    "\n",
    "    "
   ]
  },
  {
   "cell_type": "code",
   "execution_count": null,
   "id": "rolled-storage",
   "metadata": {},
   "outputs": [],
   "source": [
    "target = [(20, 46), (35, 64), (50, 66), (200, 68), (300, 68), (1000, 67), (19999, 60)]\n",
    "target_x = np.concatenate([np.logspace(math.log10(target[i][0]), math.log10(target[i+1][0]), 10) for i in range(0, len(target)-1)])\n",
    "target_y = np.concatenate([np.linspace(target[i][1], target[i+1][1], 10) for i in range(0, len(target)-1)])"
   ]
  },
  {
   "cell_type": "code",
   "execution_count": null,
   "id": "greater-idaho",
   "metadata": {},
   "outputs": [],
   "source": [
    "df_target = pd.DataFrame({'Freq': target_x, 'dB': target_y})"
   ]
  },
  {
   "cell_type": "code",
   "execution_count": null,
   "id": "infrared-anatomy",
   "metadata": {},
   "outputs": [],
   "source": [
    "max_freq = 3000\n",
    "chart_L = graph(df_L, df_target, max_freq, 'Left')\n",
    "chart_R = graph(df_R, df_target, max_freq, 'Right')"
   ]
  },
  {
   "cell_type": "code",
   "execution_count": null,
   "id": "central-gamma",
   "metadata": {},
   "outputs": [],
   "source": [
    "chart_L | chart_R"
   ]
  },
  {
   "cell_type": "code",
   "execution_count": null,
   "id": "professional-pathology",
   "metadata": {},
   "outputs": [],
   "source": [
    "freq = df_L.dB.values\n",
    "phase = df_L.Phase.values*math.pi/180\n",
    "unwrapped = np.unwrap(phase)\n",
    "group_delay = np.gradient(unwrapped)"
   ]
  },
  {
   "cell_type": "code",
   "execution_count": null,
   "id": "turned-correction",
   "metadata": {},
   "outputs": [],
   "source": [
    "len(phase), len(freq), len(unwrapped), len(group_delay)"
   ]
  },
  {
   "cell_type": "code",
   "execution_count": null,
   "id": "national-sarah",
   "metadata": {},
   "outputs": [],
   "source": [
    "df_L['GroupDelay'] = group_delay"
   ]
  },
  {
   "cell_type": "code",
   "execution_count": null,
   "id": "logical-intermediate",
   "metadata": {},
   "outputs": [],
   "source": [
    "graph_groupdelay(df_L, 3000, 'red')"
   ]
  },
  {
   "cell_type": "code",
   "execution_count": null,
   "id": "placed-contribution",
   "metadata": {},
   "outputs": [],
   "source": []
  },
  {
   "cell_type": "code",
   "execution_count": null,
   "id": "atomic-vault",
   "metadata": {},
   "outputs": [],
   "source": []
  },
  {
   "cell_type": "code",
   "execution_count": null,
   "id": "ceramic-drilling",
   "metadata": {},
   "outputs": [],
   "source": []
  }
 ],
 "metadata": {
  "kernelspec": {
   "display_name": "Python 3",
   "language": "python",
   "name": "python3"
  },
  "language_info": {
   "codemirror_mode": {
    "name": "ipython",
    "version": 3
   },
   "file_extension": ".py",
   "mimetype": "text/x-python",
   "name": "python",
   "nbconvert_exporter": "python",
   "pygments_lexer": "ipython3",
   "version": "3.8.5"
  }
 },
 "nbformat": 4,
 "nbformat_minor": 5
}
